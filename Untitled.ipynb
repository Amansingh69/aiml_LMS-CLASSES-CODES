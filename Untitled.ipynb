{
 "cells": [
  {
   "cell_type": "code",
   "execution_count": 1,
   "id": "fa086582-f7e5-4a61-ae2f-06e0efa1ea64",
   "metadata": {},
   "outputs": [
    {
     "name": "stdout",
     "output_type": "stream",
     "text": [
      "Even List: [200, 10, 98]\n",
      "Odd List: [53, 87]\n"
     ]
    }
   ],
   "source": [
    "# Given a list  L=[ 200,10,53,87,98] segregate this intp even list and odd list\n",
    "\n",
    "L = [200, 10, 53, 87, 98]\n",
    "even_list = [num for num in L if num % 2 == 0]\n",
    "odd_list == [num for num in L if num % 2 != 0]\n",
    "\n",
    "print(\"Even List:\", even_list)\n",
    "print(\"Odd List:\", odd_list)\n"
   ]
  },
  {
   "cell_type": "code",
   "execution_count": 9,
   "id": "7bf284e6-a9af-4646-a13d-bc3e1b8c7dfa",
   "metadata": {},
   "outputs": [
    {
     "data": {
      "text/plain": [
       "False"
      ]
     },
     "execution_count": 9,
     "metadata": {},
     "output_type": "execute_result"
    }
   ],
   "source": [
    " 4 not in [30,40,4,0]\n"
   ]
  },
  {
   "cell_type": "code",
   "execution_count": 11,
   "id": "4b8bbd52-a5ca-46b8-a838-15d80378f911",
   "metadata": {},
   "outputs": [
    {
     "data": {
      "text/plain": [
       "True"
      ]
     },
     "execution_count": 11,
     "metadata": {},
     "output_type": "execute_result"
    }
   ],
   "source": [
    " 4 in [30,40,4,0]"
   ]
  },
  {
   "cell_type": "code",
   "execution_count": 3,
   "id": "43c1ae61-65e3-4e87-8433-9b1aee4aa8d8",
   "metadata": {},
   "outputs": [
    {
     "name": "stdout",
     "output_type": "stream",
     "text": [
      "The roots of the equation are:\n",
      "x1 = (2+1j)\n",
      "x2 = (2-1j)\n"
     ]
    }
   ],
   "source": [
    "import cmath\n",
    "\n",
    "\n",
    "a = 1\n",
    "b = -4\n",
    "c = 5\n",
    "\n",
    "\n",
    "discriminant = cmath.sqrt(b**2 - 4*a*c)\n",
    "\n",
    "\n",
    "x1 = (-b + discriminant) / (2 * a)\n",
    "x2 = (-b - discriminant) / (2 * a)\n",
    "\n",
    "print(\"The roots of the equation are:\")\n",
    "print(f\"x1 = {x1}\")\n",
    "print(f\"x2 = {x2}\")\n"
   ]
  },
  {
   "cell_type": "code",
   "execution_count": 9,
   "id": "e7ed66e5-759b-40a7-93cb-cfeb23eff0c5",
   "metadata": {},
   "outputs": [
    {
     "data": {
      "text/plain": [
       "3.618033988749895"
      ]
     },
     "execution_count": 9,
     "metadata": {},
     "output_type": "execute_result"
    }
   ],
   "source": [
    "\n",
    "\n",
    "a = 1\n",
    "b = -5\n",
    "c = 5\n",
    "\n",
    "root1 = ((-1*b) + (b**2 - 4*a*c)** 0.5) / 2* a\n",
    "root1"
   ]
  },
  {
   "cell_type": "code",
   "execution_count": 11,
   "id": "1edd1bf3-a223-41a0-890b-def94693f915",
   "metadata": {},
   "outputs": [
    {
     "data": {
      "text/plain": [
       "3.618033988749895"
      ]
     },
     "execution_count": 11,
     "metadata": {},
     "output_type": "execute_result"
    }
   ],
   "source": [
    "root1 = ((-1*b) + (b**2 - 4*a*c)** 0.5) / 2* a\n",
    "root1"
   ]
  },
  {
   "cell_type": "code",
   "execution_count": 1,
   "id": "968b2b3e-1a56-4f84-a71d-2a3acf772d81",
   "metadata": {},
   "outputs": [
    {
     "name": "stdout",
     "output_type": "stream",
     "text": [
      "30\n",
      "60\n",
      "90\n",
      "120\n"
     ]
    }
   ],
   "source": [
    "my_list = [10,20,30,40]\n",
    "for item in my_list:\n",
    "    print(3*item)"
   ]
  },
  {
   "cell_type": "code",
   "execution_count": 18,
   "id": "d3d2534b-5c69-4eaf-a9c2-0e9d9bf2399e",
   "metadata": {},
   "outputs": [
    {
     "name": "stdout",
     "output_type": "stream",
     "text": [
      "[['apple', 10], ['banana', 5], ['cherry', 7], ['banana', 5], ['grapes', 9]]\n"
     ]
    }
   ],
   "source": [
    " orders = [[\"apple\", 10], [\"banana\", 5], [\"cherry\", 7], [\"banana\", 5]]\n",
    "new_orders = [\"grapes\", 9]\n",
    "orders.append(new_orders)\n",
    "\n",
    "print(orders)\n"
   ]
  },
  {
   "cell_type": "code",
   "execution_count": 25,
   "id": "a9f1cd28-5791-4a88-9c0b-9d76f06b8a18",
   "metadata": {},
   "outputs": [
    {
     "name": "stdout",
     "output_type": "stream",
     "text": [
      "Quantity of dragon: 9\n"
     ]
    }
   ],
   "source": [
    "orders = [[\"apple\", 10], [\"banana\", 5], [\"cherry\", 7], [\"dragon\", 9]]\n",
    "\n",
    "for order in orders:\n",
    "    if order[0] == \"dragon\":\n",
    "        print(f\"Quantity of dragon: {order[1]}\")\n",
    "\n"
   ]
  },
  {
   "cell_type": "code",
   "execution_count": 4,
   "id": "3c65880f-0f77-4cd6-bcb1-4511af425c42",
   "metadata": {},
   "outputs": [
    {
     "name": "stdout",
     "output_type": "stream",
     "text": [
      "[['apple', 10], ['banana', 5], ['mango', 8], ['cherry', 10]]\n"
     ]
    }
   ],
   "source": [
    "orders = [['apple', 10], ['banana', 5], ['mango', 8], ['cherry', 7]]\n",
    "\n",
    "for each in orders:\n",
    "    if each[0] == \"cherry\":\n",
    "        each[1] = 10\n",
    "print(orders)"
   ]
  },
  {
   "cell_type": "code",
   "execution_count": 16,
   "id": "dcb1f7cb-843c-4cea-aaf4-6ab392012944",
   "metadata": {},
   "outputs": [
    {
     "name": "stdout",
     "output_type": "stream",
     "text": [
      "[9, 11]\n",
      "20\n"
     ]
    }
   ],
   "source": [
    "orders = [['apple', 9], ['banana', 8], ['mango', 4], ['orange',5], ['apple', 11]]\n",
    "\n",
    "\n",
    "total = []\n",
    "for each_item in orders:\n",
    "    if each_item[0] == \"apple\":\n",
    "        total.append(each_item[1])\n",
    "print(total)\n",
    "print(sum(total))\n",
    "        "
   ]
  },
  {
   "cell_type": "code",
   "execution_count": 20,
   "id": "7868e721-942e-4c04-8270-a6a6f5931040",
   "metadata": {},
   "outputs": [
    {
     "name": "stdout",
     "output_type": "stream",
     "text": [
      "(4, 10, 20, 23, 'A', 9.81, False, (9-6j))\n",
      "<class 'tuple'>\n"
     ]
    }
   ],
   "source": [
    "tup1 = (4,10,20,23,\"A\",9.81,False, 9-6j)\n",
    "print(tup1)\n",
    "print (type(tup1))"
   ]
  },
  {
   "cell_type": "code",
   "execution_count": 22,
   "id": "fda0279e-3ecb-4cbf-a4d9-b944ede87070",
   "metadata": {},
   "outputs": [
    {
     "data": {
      "text/plain": [
       "('A', 9.81)"
      ]
     },
     "execution_count": 22,
     "metadata": {},
     "output_type": "execute_result"
    }
   ],
   "source": [
    "tup1[4:6]"
   ]
  },
  {
   "cell_type": "code",
   "execution_count": 24,
   "id": "6ec0aaa5-b9be-4fa4-bab3-ecd511450b8f",
   "metadata": {},
   "outputs": [
    {
     "data": {
      "text/plain": [
       "(20, 23, 'A')"
      ]
     },
     "execution_count": 24,
     "metadata": {},
     "output_type": "execute_result"
    }
   ],
   "source": [
    "tup1[2:5]"
   ]
  },
  {
   "cell_type": "code",
   "execution_count": 26,
   "id": "ea695082-61ce-43b8-8c07-d6de48bddf70",
   "metadata": {},
   "outputs": [
    {
     "data": {
      "text/plain": [
       "(20, 23)"
      ]
     },
     "execution_count": 26,
     "metadata": {},
     "output_type": "execute_result"
    }
   ],
   "source": [
    "tup1[2:4]"
   ]
  },
  {
   "cell_type": "code",
   "execution_count": 28,
   "id": "22db5898-b36e-4f4a-b4e6-fc28e879f4db",
   "metadata": {},
   "outputs": [
    {
     "data": {
      "text/plain": [
       "(10, 20, 23, 'A')"
      ]
     },
     "execution_count": 28,
     "metadata": {},
     "output_type": "execute_result"
    }
   ],
   "source": [
    "tup1[1:5]"
   ]
  },
  {
   "cell_type": "code",
   "execution_count": 30,
   "id": "78bf1bc2-182d-43f7-b1e1-f79c22cad167",
   "metadata": {},
   "outputs": [
    {
     "data": {
      "text/plain": [
       "4"
      ]
     },
     "execution_count": 30,
     "metadata": {},
     "output_type": "execute_result"
    }
   ],
   "source": [
    "tup2 = (10,1,2,4,5,8,96,59,71,89,51,2,2,2,39,42)\n",
    "tup2.count(2)"
   ]
  },
  {
   "cell_type": "code",
   "execution_count": 32,
   "id": "33d6ad65-ea2e-42a4-835e-9d7c30fa3a44",
   "metadata": {},
   "outputs": [
    {
     "data": {
      "text/plain": [
       "2"
      ]
     },
     "execution_count": 32,
     "metadata": {},
     "output_type": "execute_result"
    }
   ],
   "source": [
    "tup3 = (10,1,2,4,5,8,96,59,71,89,51,2,2,2,39,42)\n",
    "tup3.index(2)"
   ]
  },
  {
   "cell_type": "code",
   "execution_count": 34,
   "id": "b08e7e05-114d-46ba-8029-1e8bbaa7023c",
   "metadata": {},
   "outputs": [
    {
     "name": "stdout",
     "output_type": "stream",
     "text": [
      "{'a': 1, 'b': 2, 'c': 3}\n",
      "<class 'dict'>\n"
     ]
    }
   ],
   "source": [
    "d1 = {\"a\": 1, \"b\": 2, \"c\": 3}\n",
    "print(d1)\n",
    "print(type(d1))"
   ]
  },
  {
   "cell_type": "code",
   "execution_count": 5,
   "id": "8c39bad4-c16e-49e4-bde2-b9b8e60b336d",
   "metadata": {},
   "outputs": [
    {
     "data": {
      "text/plain": [
       "{'Jadeja': 50, 'Virat': 90, 'Rohit': 100, 'Rahul': 70, 'Hardik': 50}"
      ]
     },
     "execution_count": 5,
     "metadata": {},
     "output_type": "execute_result"
    }
   ],
   "source": [
    "scores = {'Jadeja':50,'Virat':90,'Rohit':100,'Rahul':70,'Hardik':50}\n",
    "scores\n"
   ]
  },
  {
   "cell_type": "code",
   "execution_count": 11,
   "id": "30f4ed9d-71e5-4eef-892a-646c2033a6c0",
   "metadata": {},
   "outputs": [
    {
     "data": {
      "text/plain": [
       "{'Jadeja': 100, 'Virat': 90, 'Rohit': 100, 'Rahul': 70, 'Hardik': 50}"
      ]
     },
     "execution_count": 11,
     "metadata": {},
     "output_type": "execute_result"
    }
   ],
   "source": [
    "scores.update({'Jadeja':100})\n",
    "scores"
   ]
  },
  {
   "cell_type": "code",
   "execution_count": 15,
   "id": "04494a2f-d845-4557-b28e-4dd1ddde4313",
   "metadata": {},
   "outputs": [
    {
     "data": {
      "text/plain": [
       "{'Jadeja': 100,\n",
       " 'Virat': 90,\n",
       " 'Rohit': 100,\n",
       " 'Rahul': 70,\n",
       " 'Hardik': 50,\n",
       " 'Pujara': 50}"
      ]
     },
     "execution_count": 15,
     "metadata": {},
     "output_type": "execute_result"
    }
   ],
   "source": [
    "scores.setdefault('Pujara',25)\n",
    "scores"
   ]
  },
  {
   "cell_type": "code",
   "execution_count": 23,
   "id": "488fc161-0b77-4fb0-b5bf-a47ddbb94bd1",
   "metadata": {},
   "outputs": [
    {
     "data": {
      "text/plain": [
       "{'Jadeja': 100, 'Virat': 90, 'Rohit': 100, 'Rahul': 70, 'Hardik': 50}"
      ]
     },
     "execution_count": 23,
     "metadata": {},
     "output_type": "execute_result"
    }
   ],
   "source": [
    "scores.popitem()\n",
    "scores"
   ]
  },
  {
   "cell_type": "code",
   "execution_count": 25,
   "id": "df133b9d-b840-4470-98b0-c3f14977a77e",
   "metadata": {},
   "outputs": [
    {
     "data": {
      "text/plain": [
       "{'Jadeja': 100, 'Rohit': 100, 'Rahul': 70, 'Hardik': 50}"
      ]
     },
     "execution_count": 25,
     "metadata": {},
     "output_type": "execute_result"
    }
   ],
   "source": [
    "scores.pop(\"Virat\")\n",
    "scores"
   ]
  },
  {
   "cell_type": "code",
   "execution_count": 27,
   "id": "04b8dfaa-41ae-4641-a8b2-8367fefb9712",
   "metadata": {},
   "outputs": [
    {
     "data": {
      "text/plain": [
       "50"
      ]
     },
     "execution_count": 27,
     "metadata": {},
     "output_type": "execute_result"
    }
   ],
   "source": [
    "scores.get(\"Hardik\")"
   ]
  },
  {
   "cell_type": "code",
   "execution_count": 33,
   "id": "2fa3d406-adf0-4b7c-8892-1bf0a5705691",
   "metadata": {},
   "outputs": [
    {
     "data": {
      "text/plain": [
       "{'A': 10, 'B': 20, 'C': None, 'D': 20}"
      ]
     },
     "execution_count": 33,
     "metadata": {},
     "output_type": "execute_result"
    }
   ],
   "source": [
    "my_dict.update({\"A\":10,\"D\":20})\n",
    "my_dict"
   ]
  },
  {
   "cell_type": "code",
   "execution_count": 29,
   "id": "8c4d71b9-845b-4b1d-826d-d37c33124301",
   "metadata": {},
   "outputs": [
    {
     "data": {
      "text/plain": [
       "{'A': None, 'B': None, 'C': None, 'D': None}"
      ]
     },
     "execution_count": 29,
     "metadata": {},
     "output_type": "execute_result"
    }
   ],
   "source": [
    "list1 = [\"A\",\"B\",\"C\",\"D\"]\n",
    "my_dict =dict.fromkeys(list1)\n",
    "my_dict"
   ]
  },
  {
   "cell_type": "code",
   "execution_count": 35,
   "id": "34873f31-360d-46a5-8245-18848003678f",
   "metadata": {},
   "outputs": [
    {
     "name": "stdout",
     "output_type": "stream",
     "text": [
      "dict_keys(['Jadeja', 'Rohit', 'Rahul', 'Hardik'])\n",
      "dict_values([100, 100, 70, 50])\n",
      "dict_items([('Jadeja', 100), ('Rohit', 100), ('Rahul', 70), ('Hardik', 50)])\n"
     ]
    }
   ],
   "source": [
    "print(scores.keys())\n",
    "print(scores.values())\n",
    "print(scores.items())"
   ]
  },
  {
   "cell_type": "code",
   "execution_count": 37,
   "id": "b88d530e-41e3-4560-ba64-422668e72ff8",
   "metadata": {},
   "outputs": [
    {
     "data": {
      "text/plain": [
       "{'Jadeja': 100, 'Rohit': 100, 'Rahul': 70, 'Hardik': 19}"
      ]
     },
     "execution_count": 37,
     "metadata": {},
     "output_type": "execute_result"
    }
   ],
   "source": [
    "for k in scores.keys():\n",
    "    if k == 'Hardik':\n",
    "        scores[k] = 19\n",
    "scores"
   ]
  },
  {
   "cell_type": "code",
   "execution_count": 46,
   "id": "5edb62df-f72f-45bb-9935-8cd14674f0dc",
   "metadata": {},
   "outputs": [
    {
     "name": "stdout",
     "output_type": "stream",
     "text": [
      "[100, 100, 70, 19]\n",
      "Total Score:  289\n"
     ]
    }
   ],
   "source": [
    "scores_list = []\n",
    "for v in scores.values():\n",
    "    scores_list.append(v)\n",
    "print(scores_list)\n",
    "print(\"Total Score: \", sum(scores_list))"
   ]
  },
  {
   "cell_type": "code",
   "execution_count": 52,
   "id": "981c0779-7a17-4fe8-9f3d-e0369ecdf1d5",
   "metadata": {},
   "outputs": [
    {
     "name": "stdout",
     "output_type": "stream",
     "text": [
      "289\n",
      "Contribution of Jadeja to total score: 34.602076124567475\n",
      "Contribution of Rohit to total score: 34.602076124567475\n",
      "Contribution of Rahul to total score: 24.22145328719723\n",
      "Contribution of Hardik to total score: 6.5743944636678195\n"
     ]
    }
   ],
   "source": [
    "total_score = sum(scores.values())\n",
    "print(total_score)\n",
    "\n",
    "for k,v in scores.items():\n",
    "    print(f\"Contribution of {k} to total score: {(v/total_score)*100}\")"
   ]
  },
  {
   "cell_type": "code",
   "execution_count": null,
   "id": "f36d105b-7c19-4bee-8c4e-e17578dfb765",
   "metadata": {},
   "outputs": [],
   "source": [
    "\n",
    "def calculate_grade():\n",
    "    try:\n",
    "        \n",
    "        mark1 = float(input(\"Enter marks for subject 1: \"))\n",
    "        mark2 = float(input(\"Enter marks for subject 2: \"))\n",
    "        mark3 = float(input(\"Enter marks for subject 3: \"))\n",
    "\n",
    "        \n",
    "        average = (mark1 + mark2 + mark3) / 3\n",
    "\n",
    "        \n",
    "        if average >= 90:\n",
    "            print(\"Grade: A\")\n",
    "        elif 80 <= average < 90:\n",
    "            print(\"Grade: B\")\n",
    "        elif 70 <= average < 80:\n",
    "            print(\"Grade: C\")\n",
    "        else:\n",
    "            print(\"Grade: Fail\")\n",
    "    except ValueError:\n",
    "        print(\"Invalid input! Please enter numeric values for marks.\")\n",
    "\n",
    "\n",
    "calculate_grade()\n"
   ]
  }
 ],
 "metadata": {
  "kernelspec": {
   "display_name": "Python [conda env:base] *",
   "language": "python",
   "name": "conda-base-py"
  },
  "language_info": {
   "codemirror_mode": {
    "name": "ipython",
    "version": 3
   },
   "file_extension": ".py",
   "mimetype": "text/x-python",
   "name": "python",
   "nbconvert_exporter": "python",
   "pygments_lexer": "ipython3",
   "version": "3.12.7"
  }
 },
 "nbformat": 4,
 "nbformat_minor": 5
}
